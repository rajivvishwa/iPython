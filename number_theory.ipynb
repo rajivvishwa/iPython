{
 "metadata": {
  "name": "Number Theory"
 },
 "nbformat": 3,
 "nbformat_minor": 0,
 "worksheets": [
  {
   "cells": [
    {
     "cell_type": "heading",
     "level": 3,
     "metadata": {},
     "source": "Fermat's Theorem"
    },
    {
     "cell_type": "code",
     "collapsed": false,
     "input": "def fermat(x,p):\n\tresult = (x ** (p-1)) % p\n\tif result == 1: print \"x: {}, p: {} = {}\".format(x,p,result)\n\treturn result",
     "language": "python",
     "metadata": {},
     "outputs": [],
     "prompt_number": 19
    },
    {
     "cell_type": "code",
     "collapsed": false,
     "input": "p = 5\nx = 2\nfor i in range (1,20):\n\tfermat(x,i)",
     "language": "python",
     "metadata": {},
     "outputs": [
      {
       "output_type": "stream",
       "stream": "stdout",
       "text": "x: 2 , p: 3 = 1\nx: 2 , p: 5 = 1\nx: 2 , p: 7 = 1\nx: 2 , p: 11 = 1\nx: 2 , p: 13 = 1\nx: 2 , p: 17 = 1\nx: 2 , p: 19 = 1\n"
      }
     ],
     "prompt_number": 11
    },
    {
     "cell_type": "heading",
     "level": 3,
     "metadata": {},
     "source": "(Zp)* Euler Thm"
    },
    {
     "cell_type": "code",
     "collapsed": false,
     "input": "def euler(g,p):\n\tZp = list()\n\tfor i in range(0, p-1):\n\t\tresult = (g ** i) % p\n\t\tZp.append(result)\n\treturn Zp",
     "language": "python",
     "metadata": {},
     "outputs": [],
     "prompt_number": 13
    },
    {
     "cell_type": "code",
     "collapsed": false,
     "input": "p = 7\ng = 12\n\nZp = (list(set(euler(g,p))))\nprint \"Zp = \",Zp\nprint \"ord_p(g) = \",len(Zp)\nif len(Zp) == p-1: \n\tprint \"{} is a generator of Z_{}*\".format(g,p)\nelse:\n\tprint \"{} is not a generator of Z_{}*\".format(g,p)",
     "language": "python",
     "metadata": {},
     "outputs": [
      {
       "output_type": "stream",
       "stream": "stdout",
       "text": "Zp =  [1, 2, 3, 4, 5, 6]\nord_p(g) =  6\n12 is a generator of Z_7*\n"
      }
     ],
     "prompt_number": 24
    },
    {
     "cell_type": "heading",
     "level": 3,
     "metadata": {},
     "source": " Zn* and fie (Eulers thm)"
    },
    {
     "cell_type": "markdown",
     "metadata": {},
     "source": "Zn* = Invertible functions in Zn"
    },
    {
     "cell_type": "code",
     "collapsed": false,
     "input": "from fractions import gcd\n \ndef findZn_s(N):\n\tresult = list()\n\tfor i in range(0, N+1):\n\t\tif gcd(i, N) % N == 1:\n\t\t\tresult.append(i)\n\treturn result",
     "language": "python",
     "metadata": {},
     "outputs": [],
     "prompt_number": 20
    },
    {
     "cell_type": "code",
     "collapsed": false,
     "input": "N = 12\nx = 5\nZn_s = (list(set(findZn_s(N))))\nprint \"(Zn*) =\", Zn_s\nprint \"fi(Zn*) =\", len(Zn_s)\n \n# Eulers thm, x^fi(N) = 1 and x elem of Zn_s\nprint [n ** len(Zn_s) % N for n in Zn_s]",
     "language": "python",
     "metadata": {},
     "outputs": [
      {
       "output_type": "stream",
       "stream": "stdout",
       "text": "(Zn*) = [1, 11, 5, 7]\nfi(Zn*) = 4\n[1, 1, 1, 1]\n"
      }
     ],
     "prompt_number": 17
    },
    {
     "cell_type": "heading",
     "level": 3,
     "metadata": {},
     "source": "Quadratic Residue"
    },
    {
     "cell_type": "code",
     "collapsed": false,
     "input": "from fractions import gcd\n \np = 11\nqr = list()\nfor x in range(0, p+1):\n\tfor y in range(0, p+1):\n\t\tif (x**2)%p == (y**2)%p and x!=y:\n\t\t\t#print \"{},{} ({})\".format(x,y,x**2%p)\n\t\t\tqr.append((x,y))\n\t\ty += 1\n\tx += 1\n \nqr =list(set((a,b) if a<=b else (b,a) for a,b in set(qr)))\nprint \"Quadratic Residue of {} ({} elems)={}\".format(p,len(qr),qr)\nprint \"Number of QRs in {} = {}\".format(p,(p-1)/2 + 1)",
     "language": "python",
     "metadata": {},
     "outputs": [
      {
       "output_type": "stream",
       "stream": "stdout",
       "text": "Quadratic Residue of 11 (6 elems)=[(4, 7), (2, 9), (5, 6), (3, 8), (0, 11), (1, 10)]\nNumber of QRs in 11 = 6\n"
      }
     ],
     "prompt_number": 28
    },
    {
     "cell_type": "heading",
     "level": 3,
     "metadata": {},
     "source": "Repeated Squaring Algorithm"
    },
    {
     "cell_type": "code",
     "collapsed": false,
     "input": "def repeated_sq(g,x):\n\txb = bin(x)[2:][::-1]\n\n\tz = 1\n\ty = g\n\n\tfor i in range(0,len(xb)):\n\t    if xb[i] == '1': \n\t    \tz = z * y\n\t    y = y ** 2\n\treturn z",
     "language": "python",
     "metadata": {},
     "outputs": [],
     "prompt_number": 26
    },
    {
     "cell_type": "code",
     "collapsed": false,
     "input": "x = 53\ng = 9\n\nprint repeated_sq(g,x)",
     "language": "python",
     "metadata": {},
     "outputs": [
      {
       "output_type": "stream",
       "stream": "stdout",
       "text": "375710212613636260325580163599137907799836383538729\n"
      }
     ],
     "prompt_number": 27
    }
   ],
   "metadata": {}
  }
 ]
}